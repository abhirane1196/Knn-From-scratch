{
 "cells": [
  {
   "cell_type": "code",
   "execution_count": 27,
   "id": "800326bc",
   "metadata": {},
   "outputs": [],
   "source": [
    "import numpy as np\n",
    "import pandas as pd\n",
    "from sklearn.neighbors import KNeighborsRegressor\n",
    "from sklearn.metrics import mean_absolute_percentage_error as mape\n",
    "from sklearn.model_selection import train_test_split"
   ]
  },
  {
   "cell_type": "code",
   "execution_count": 2,
   "id": "5178e53d",
   "metadata": {},
   "outputs": [],
   "source": [
    "train = pd.read_excel('knn.xlsx') #Read excel from sheet 0 and save it as dataframe\n",
    "test = pd.read_excel('knn.xlsx',1) #Read excel from sheet 1 and save it as dataframe"
   ]
  },
  {
   "cell_type": "raw",
   "id": "97c49120",
   "metadata": {},
   "source": [
    "[A] Pseudo Code\n",
    "Take first test row\n",
    "Calculate the Euclidean distance from all the training points\n",
    "Sort the df on basis of distance\n",
    "Use k = 3 as neighbors\n",
    "calculate the average of the values for prediction"
   ]
  },
  {
   "cell_type": "raw",
   "id": "5bfe2c6d",
   "metadata": {},
   "source": [
    "[B] Read the train data"
   ]
  },
  {
   "cell_type": "code",
   "execution_count": 3,
   "id": "f3d20854",
   "metadata": {},
   "outputs": [
    {
     "data": {
      "text/html": [
       "<div>\n",
       "<style scoped>\n",
       "    .dataframe tbody tr th:only-of-type {\n",
       "        vertical-align: middle;\n",
       "    }\n",
       "\n",
       "    .dataframe tbody tr th {\n",
       "        vertical-align: top;\n",
       "    }\n",
       "\n",
       "    .dataframe thead th {\n",
       "        text-align: right;\n",
       "    }\n",
       "</style>\n",
       "<table border=\"1\" class=\"dataframe\">\n",
       "  <thead>\n",
       "    <tr style=\"text-align: right;\">\n",
       "      <th></th>\n",
       "      <th>X1</th>\n",
       "      <th>X2</th>\n",
       "      <th>X3</th>\n",
       "      <th>y</th>\n",
       "    </tr>\n",
       "  </thead>\n",
       "  <tbody>\n",
       "    <tr>\n",
       "      <th>0</th>\n",
       "      <td>-0.059533</td>\n",
       "      <td>0.763686</td>\n",
       "      <td>0.317046</td>\n",
       "      <td>-0.070229</td>\n",
       "    </tr>\n",
       "    <tr>\n",
       "      <th>1</th>\n",
       "      <td>1.916473</td>\n",
       "      <td>-0.378508</td>\n",
       "      <td>-0.411538</td>\n",
       "      <td>1.887648</td>\n",
       "    </tr>\n",
       "    <tr>\n",
       "      <th>2</th>\n",
       "      <td>-0.237390</td>\n",
       "      <td>-0.244097</td>\n",
       "      <td>-1.053888</td>\n",
       "      <td>-0.316625</td>\n",
       "    </tr>\n",
       "  </tbody>\n",
       "</table>\n",
       "</div>"
      ],
      "text/plain": [
       "         X1        X2        X3         y\n",
       "0 -0.059533  0.763686  0.317046 -0.070229\n",
       "1  1.916473 -0.378508 -0.411538  1.887648\n",
       "2 -0.237390 -0.244097 -1.053888 -0.316625"
      ]
     },
     "execution_count": 3,
     "metadata": {},
     "output_type": "execute_result"
    }
   ],
   "source": [
    "train.head(3)"
   ]
  },
  {
   "cell_type": "raw",
   "id": "e0b3cb81",
   "metadata": {},
   "source": [
    "[C] Read the test data"
   ]
  },
  {
   "cell_type": "code",
   "execution_count": 4,
   "id": "78d180ba",
   "metadata": {},
   "outputs": [
    {
     "data": {
      "text/html": [
       "<div>\n",
       "<style scoped>\n",
       "    .dataframe tbody tr th:only-of-type {\n",
       "        vertical-align: middle;\n",
       "    }\n",
       "\n",
       "    .dataframe tbody tr th {\n",
       "        vertical-align: top;\n",
       "    }\n",
       "\n",
       "    .dataframe thead th {\n",
       "        text-align: right;\n",
       "    }\n",
       "</style>\n",
       "<table border=\"1\" class=\"dataframe\">\n",
       "  <thead>\n",
       "    <tr style=\"text-align: right;\">\n",
       "      <th></th>\n",
       "      <th>X1</th>\n",
       "      <th>X2</th>\n",
       "      <th>X3</th>\n",
       "      <th>y</th>\n",
       "    </tr>\n",
       "  </thead>\n",
       "  <tbody>\n",
       "    <tr>\n",
       "      <th>0</th>\n",
       "      <td>0.295855</td>\n",
       "      <td>0.145806</td>\n",
       "      <td>1.381112</td>\n",
       "      <td>0.408699</td>\n",
       "    </tr>\n",
       "  </tbody>\n",
       "</table>\n",
       "</div>"
      ],
      "text/plain": [
       "         X1        X2        X3         y\n",
       "0  0.295855  0.145806  1.381112  0.408699"
      ]
     },
     "execution_count": 4,
     "metadata": {},
     "output_type": "execute_result"
    }
   ],
   "source": [
    "test.head(1)"
   ]
  },
  {
   "cell_type": "raw",
   "id": "3dbbe8f5",
   "metadata": {},
   "source": [
    "[D] First row of train"
   ]
  },
  {
   "cell_type": "code",
   "execution_count": 9,
   "id": "211161b1",
   "metadata": {},
   "outputs": [
    {
     "data": {
      "text/html": [
       "<div>\n",
       "<style scoped>\n",
       "    .dataframe tbody tr th:only-of-type {\n",
       "        vertical-align: middle;\n",
       "    }\n",
       "\n",
       "    .dataframe tbody tr th {\n",
       "        vertical-align: top;\n",
       "    }\n",
       "\n",
       "    .dataframe thead th {\n",
       "        text-align: right;\n",
       "    }\n",
       "</style>\n",
       "<table border=\"1\" class=\"dataframe\">\n",
       "  <thead>\n",
       "    <tr style=\"text-align: right;\">\n",
       "      <th></th>\n",
       "      <th>X1</th>\n",
       "      <th>X2</th>\n",
       "      <th>X3</th>\n",
       "    </tr>\n",
       "  </thead>\n",
       "  <tbody>\n",
       "    <tr>\n",
       "      <th>0</th>\n",
       "      <td>-0.059533</td>\n",
       "      <td>0.763686</td>\n",
       "      <td>0.317046</td>\n",
       "    </tr>\n",
       "  </tbody>\n",
       "</table>\n",
       "</div>"
      ],
      "text/plain": [
       "         X1        X2        X3\n",
       "0 -0.059533  0.763686  0.317046"
      ]
     },
     "execution_count": 9,
     "metadata": {},
     "output_type": "execute_result"
    }
   ],
   "source": [
    "train.iloc[0:1,0:-1]"
   ]
  },
  {
   "cell_type": "raw",
   "id": "7139d957",
   "metadata": {},
   "source": [
    "[E]Calculate the distance"
   ]
  },
  {
   "cell_type": "code",
   "execution_count": 10,
   "id": "3b353e27",
   "metadata": {},
   "outputs": [],
   "source": [
    "a = []\n",
    "for i in range(train.shape[0]):\n",
    "    a.append(np.sqrt((train.iloc[i,0] - test.iloc[0,0])**2 + (train.iloc[i,1] - test.iloc[0,1])**2 + (train.iloc[i,2] - test.iloc[0,2])**2))"
   ]
  },
  {
   "cell_type": "code",
   "execution_count": 15,
   "id": "2089dbea",
   "metadata": {},
   "outputs": [
    {
     "data": {
      "text/plain": [
       "(0.2181999382603222, 0.295855329600494, -1.420518819901921, 0.1458057904030124)"
      ]
     },
     "execution_count": 15,
     "metadata": {},
     "output_type": "execute_result"
    }
   ],
   "source": [
    "train.iloc[i,0],test.iloc[0,0],train.iloc[i,1],test.iloc[0,1]"
   ]
  },
  {
   "cell_type": "raw",
   "id": "045b69ac",
   "metadata": {},
   "source": [
    "[F] Assign Distance to DataFrame"
   ]
  },
  {
   "cell_type": "code",
   "execution_count": 17,
   "id": "e5044e80",
   "metadata": {},
   "outputs": [],
   "source": [
    "train['Distance'] = a"
   ]
  },
  {
   "cell_type": "code",
   "execution_count": 19,
   "id": "3ae2d23c",
   "metadata": {},
   "outputs": [
    {
     "data": {
      "text/html": [
       "<div>\n",
       "<style scoped>\n",
       "    .dataframe tbody tr th:only-of-type {\n",
       "        vertical-align: middle;\n",
       "    }\n",
       "\n",
       "    .dataframe tbody tr th {\n",
       "        vertical-align: top;\n",
       "    }\n",
       "\n",
       "    .dataframe thead th {\n",
       "        text-align: right;\n",
       "    }\n",
       "</style>\n",
       "<table border=\"1\" class=\"dataframe\">\n",
       "  <thead>\n",
       "    <tr style=\"text-align: right;\">\n",
       "      <th></th>\n",
       "      <th>X1</th>\n",
       "      <th>X2</th>\n",
       "      <th>X3</th>\n",
       "      <th>y</th>\n",
       "      <th>Distance</th>\n",
       "    </tr>\n",
       "  </thead>\n",
       "  <tbody>\n",
       "    <tr>\n",
       "      <th>0</th>\n",
       "      <td>-0.059533</td>\n",
       "      <td>0.763686</td>\n",
       "      <td>0.317046</td>\n",
       "      <td>-0.070229</td>\n",
       "      <td>1.280747</td>\n",
       "    </tr>\n",
       "    <tr>\n",
       "      <th>1</th>\n",
       "      <td>1.916473</td>\n",
       "      <td>-0.378508</td>\n",
       "      <td>-0.411538</td>\n",
       "      <td>1.887648</td>\n",
       "      <td>2.472832</td>\n",
       "    </tr>\n",
       "    <tr>\n",
       "      <th>2</th>\n",
       "      <td>-0.237390</td>\n",
       "      <td>-0.244097</td>\n",
       "      <td>-1.053888</td>\n",
       "      <td>-0.316625</td>\n",
       "      <td>2.523014</td>\n",
       "    </tr>\n",
       "  </tbody>\n",
       "</table>\n",
       "</div>"
      ],
      "text/plain": [
       "         X1        X2        X3         y  Distance\n",
       "0 -0.059533  0.763686  0.317046 -0.070229  1.280747\n",
       "1  1.916473 -0.378508 -0.411538  1.887648  2.472832\n",
       "2 -0.237390 -0.244097 -1.053888 -0.316625  2.523014"
      ]
     },
     "execution_count": 19,
     "metadata": {},
     "output_type": "execute_result"
    }
   ],
   "source": [
    "train.head(3)"
   ]
  },
  {
   "cell_type": "raw",
   "id": "eabaed68",
   "metadata": {},
   "source": [
    "[G] Sort Data Frame according to distance."
   ]
  },
  {
   "cell_type": "code",
   "execution_count": 20,
   "id": "f85e53f5",
   "metadata": {},
   "outputs": [],
   "source": [
    "train.sort_values(by='Distance',ascending = False,inplace = True)"
   ]
  },
  {
   "cell_type": "code",
   "execution_count": 21,
   "id": "945740d8",
   "metadata": {},
   "outputs": [
    {
     "data": {
      "text/html": [
       "<div>\n",
       "<style scoped>\n",
       "    .dataframe tbody tr th:only-of-type {\n",
       "        vertical-align: middle;\n",
       "    }\n",
       "\n",
       "    .dataframe tbody tr th {\n",
       "        vertical-align: top;\n",
       "    }\n",
       "\n",
       "    .dataframe thead th {\n",
       "        text-align: right;\n",
       "    }\n",
       "</style>\n",
       "<table border=\"1\" class=\"dataframe\">\n",
       "  <thead>\n",
       "    <tr style=\"text-align: right;\">\n",
       "      <th></th>\n",
       "      <th>X1</th>\n",
       "      <th>X2</th>\n",
       "      <th>X3</th>\n",
       "      <th>y</th>\n",
       "      <th>Distance</th>\n",
       "    </tr>\n",
       "  </thead>\n",
       "  <tbody>\n",
       "    <tr>\n",
       "      <th>405</th>\n",
       "      <td>-0.669045</td>\n",
       "      <td>-0.683216</td>\n",
       "      <td>-3.246964</td>\n",
       "      <td>-0.917070</td>\n",
       "      <td>4.799728</td>\n",
       "    </tr>\n",
       "    <tr>\n",
       "      <th>330</th>\n",
       "      <td>-0.833632</td>\n",
       "      <td>-2.825045</td>\n",
       "      <td>-2.018151</td>\n",
       "      <td>-0.862319</td>\n",
       "      <td>4.653674</td>\n",
       "    </tr>\n",
       "    <tr>\n",
       "      <th>11</th>\n",
       "      <td>-1.162052</td>\n",
       "      <td>0.055817</td>\n",
       "      <td>-2.825190</td>\n",
       "      <td>-1.407580</td>\n",
       "      <td>4.452703</td>\n",
       "    </tr>\n",
       "  </tbody>\n",
       "</table>\n",
       "</div>"
      ],
      "text/plain": [
       "           X1        X2        X3         y  Distance\n",
       "405 -0.669045 -0.683216 -3.246964 -0.917070  4.799728\n",
       "330 -0.833632 -2.825045 -2.018151 -0.862319  4.653674\n",
       "11  -1.162052  0.055817 -2.825190 -1.407580  4.452703"
      ]
     },
     "execution_count": 21,
     "metadata": {},
     "output_type": "execute_result"
    }
   ],
   "source": [
    "train.head(3)"
   ]
  },
  {
   "cell_type": "raw",
   "id": "9f682d7f",
   "metadata": {},
   "source": [
    "[H] Calculate the prediction for k=3 nearest neighbors"
   ]
  },
  {
   "cell_type": "code",
   "execution_count": 22,
   "id": "edbaff28",
   "metadata": {},
   "outputs": [],
   "source": [
    "pred_y = (train.iloc[0,3]+train.iloc[1,3]+train.iloc[2,3])/3"
   ]
  },
  {
   "cell_type": "code",
   "execution_count": 23,
   "id": "0521587f",
   "metadata": {},
   "outputs": [
    {
     "data": {
      "text/plain": [
       "-1.0623228694604894"
      ]
     },
     "execution_count": 23,
     "metadata": {},
     "output_type": "execute_result"
    }
   ],
   "source": [
    "pred_y"
   ]
  },
  {
   "cell_type": "markdown",
   "id": "1f8862a5",
   "metadata": {},
   "source": [
    "## Define a Function to calculate for all test row "
   ]
  },
  {
   "cell_type": "code",
   "execution_count": 24,
   "id": "f78e5da0",
   "metadata": {},
   "outputs": [
    {
     "data": {
      "text/plain": [
       "0.4335604638213743"
      ]
     },
     "execution_count": 24,
     "metadata": {},
     "output_type": "execute_result"
    }
   ],
   "source": [
    "prediction = []\n",
    "for j in range(test.shape[0]):\n",
    "    Distances = []\n",
    "    for i in range(train.shape[0]):\n",
    "        distance=np.sqrt((train.iloc[i,0] - test.iloc[j,0])**2 + (train.iloc[i,1] - test.iloc[j,1])**2 + (train.iloc[i,2] - test.iloc[j,2])**2)\n",
    "        Distances.append(distance)\n",
    "    train['Distance'] = Distances\n",
    "    sorted_result=train.sort_values(by=\"Distance\")\n",
    "    predicted_value = sorted_result.iloc[0:3,-2].mean()\n",
    "    prediction.append(predicted_value)\n",
    "np.mean(np.abs((test['y'] - prediction)/test['y']))"
   ]
  },
  {
   "cell_type": "markdown",
   "id": "777cfddd",
   "metadata": {},
   "source": [
    "## Calculate the MAPE from sickit learn"
   ]
  },
  {
   "cell_type": "code",
   "execution_count": 30,
   "id": "52d716ec",
   "metadata": {},
   "outputs": [
    {
     "data": {
      "text/plain": [
       "0.4335604638213743"
      ]
     },
     "execution_count": 30,
     "metadata": {},
     "output_type": "execute_result"
    }
   ],
   "source": [
    "model=KNeighborsRegressor(n_neighbors=3)\n",
    "model.fit(train[[\"X1\",\"X2\",\"X3\"]],train[\"y\"])\n",
    "y_pre=model.predict(test[[\"X1\",\"X2\",\"X3\"]])\n",
    "mape(test['y'], y_pre)"
   ]
  },
  {
   "cell_type": "code",
   "execution_count": null,
   "id": "17881c75",
   "metadata": {},
   "outputs": [],
   "source": []
  }
 ],
 "metadata": {
  "kernelspec": {
   "display_name": "Python 3 (ipykernel)",
   "language": "python",
   "name": "python3"
  },
  "language_info": {
   "codemirror_mode": {
    "name": "ipython",
    "version": 3
   },
   "file_extension": ".py",
   "mimetype": "text/x-python",
   "name": "python",
   "nbconvert_exporter": "python",
   "pygments_lexer": "ipython3",
   "version": "3.11.3"
  }
 },
 "nbformat": 4,
 "nbformat_minor": 5
}
